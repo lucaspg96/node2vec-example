{
 "cells": [
  {
   "cell_type": "markdown",
   "metadata": {},
   "source": [
    "# Simple Embedding Example\n",
    "---\n",
    "\n",
    "Here we define a simple graph and try to represent it using an embedding 2-dimensional"
   ]
  },
  {
   "cell_type": "code",
   "execution_count": null,
   "metadata": {},
   "outputs": [],
   "source": [
    "%matplotlib inline\n",
    "import matplotlib.pyplot as plt\n",
    "import networkx as nx\n",
    "from node2vec import Node2Vec"
   ]
  },
  {
   "cell_type": "markdown",
   "metadata": {},
   "source": [
    "First, we load the graph"
   ]
  },
  {
   "cell_type": "code",
   "execution_count": null,
   "metadata": {},
   "outputs": [],
   "source": [
    "graph = nx.read_edgelist(\"Simple_Example/edges.ssv\",delimiter=\" \", data=(('weight', float),), nodetype=int)\n",
    "graph"
   ]
  },
  {
   "cell_type": "markdown",
   "metadata": {},
   "source": [
    "We store the weights in a *dict* so that we can plot it"
   ]
  },
  {
   "cell_type": "code",
   "execution_count": null,
   "metadata": {},
   "outputs": [],
   "source": [
    "weights = {(e[0],e[1]):e[2]['weight'] for i,e in enumerate(graph.edges(data=True))}"
   ]
  },
  {
   "cell_type": "markdown",
   "metadata": {},
   "source": [
    "Now, we plot the graph to see its structure"
   ]
  },
  {
   "cell_type": "code",
   "execution_count": null,
   "metadata": {},
   "outputs": [],
   "source": [
    "node_colors = [\"g\",\"g\",\"g\",\"r\",\"r\",\"r\",\"b\",\"b\",\"b\"]\n",
    "p = pos=nx.spring_layout(graph)\n",
    "plt.figure(figsize=(8,8))\n",
    "_ = nx.draw_networkx(graph,pos=p,node_color=node_colors)\n",
    "_ = nx.draw_networkx_edge_labels(graph,pos=p,edge_labels=weights)"
   ]
  },
  {
   "cell_type": "markdown",
   "metadata": {},
   "source": [
    "Now, we generate the Node2Vec object that contains the probabilities that are goind to be used on the *random walk* algorithm"
   ]
  },
  {
   "cell_type": "code",
   "execution_count": null,
   "metadata": {},
   "outputs": [],
   "source": [
    "n2v = Node2Vec(graph, dimensions=2, walk_length=3, num_walks=100, workers=4,p=0.5,q=10)"
   ]
  },
  {
   "cell_type": "markdown",
   "metadata": {},
   "source": [
    "Then we generate the embedding"
   ]
  },
  {
   "cell_type": "code",
   "execution_count": null,
   "metadata": {},
   "outputs": [],
   "source": [
    "model = n2v.fit(window=1, min_count=1, batch_words=32)\n",
    "vectors = model.wv.vectors\n",
    "vectors"
   ]
  },
  {
   "cell_type": "markdown",
   "metadata": {},
   "source": [
    "Now, we plot the embedding"
   ]
  },
  {
   "cell_type": "code",
   "execution_count": null,
   "metadata": {},
   "outputs": [],
   "source": [
    "plt.figure(figsize=(8,8))\n",
    "plt.scatter(vectors[:,0],vectors[:,1],c=node_colors,s=200,)\n",
    "plt.title(\"Best Embedding Model\")\n",
    "for i,(x,y) in enumerate(vectors):\n",
    "        plt.annotate(i+1,xy=(x,y),xytext=(-20, 20),\n",
    "        textcoords='offset points', ha='right', va='bottom',\n",
    "        bbox=dict(boxstyle='round,pad=1', fc='white', alpha=0.5),\n",
    "        arrowprops=dict(arrowstyle = '-', connectionstyle='arc3,rad=0')\n",
    "        )"
   ]
  }
 ],
 "metadata": {
  "kernelspec": {
   "display_name": "Python 3",
   "language": "python",
   "name": "python3"
  },
  "language_info": {
   "codemirror_mode": {
    "name": "ipython",
    "version": 3
   },
   "file_extension": ".py",
   "mimetype": "text/x-python",
   "name": "python",
   "nbconvert_exporter": "python",
   "pygments_lexer": "ipython3",
   "version": "3.6.6"
  }
 },
 "nbformat": 4,
 "nbformat_minor": 2
}
